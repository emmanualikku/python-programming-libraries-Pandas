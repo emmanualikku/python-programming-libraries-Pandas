{
 "cells": [
  {
   "cell_type": "markdown",
   "id": "b45c1325-fbe0-4170-bffc-7de68b40d7e3",
   "metadata": {},
   "source": [
    "# Pandas Introduction"
   ]
  },
  {
   "cell_type": "code",
   "execution_count": 3,
   "id": "efe564b4-870f-4d07-883a-dd4de09c177c",
   "metadata": {},
   "outputs": [],
   "source": [
    "# What is Pandas?\n",
    "# Pandas is a Python library used for working with data sets.\n",
    "\n",
    "# It has functions for analyzing, cleaning, exploring, and manipulating data.\n",
    "\n",
    "# The name \"Pandas\" has a reference to both \"Panel Data\", and \"Python Data Analysis\" and was created by Wes McKinney in 2008.\n",
    "\n",
    "# Why Use Pandas?\n",
    "# Pandas allows us to analyze big data and make conclusions based on statistical theories.\n",
    "\n",
    "# Pandas can clean messy data sets, and make them readable and relevant.\n",
    "\n",
    "# Relevant data is very important in data science."
   ]
  },
  {
   "cell_type": "code",
   "execution_count": null,
   "id": "3f530f58-ba19-4fbb-a8a9-414720b6aa37",
   "metadata": {},
   "outputs": [],
   "source": []
  }
 ],
 "metadata": {
  "kernelspec": {
   "display_name": "Python [conda env:base] *",
   "language": "python",
   "name": "conda-base-py"
  },
  "language_info": {
   "codemirror_mode": {
    "name": "ipython",
    "version": 3
   },
   "file_extension": ".py",
   "mimetype": "text/x-python",
   "name": "python",
   "nbconvert_exporter": "python",
   "pygments_lexer": "ipython3",
   "version": "3.12.7"
  }
 },
 "nbformat": 4,
 "nbformat_minor": 5
}
